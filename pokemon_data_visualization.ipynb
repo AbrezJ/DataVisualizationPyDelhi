{
 "cells": [
  {
   "cell_type": "markdown",
   "metadata": {},
   "source": [
    "### Exploratory Data Analysis (EDA)"
   ]
  },
  {
   "cell_type": "markdown",
   "metadata": {},
   "source": [
    "Visualization is an essential method in any data scientist's toolbox. Visualization is a key first step in the exploration of most datasets. <i>These process of exploring data visually with the simple summary statistics and visualization toolkit is known as</i> <b>Exploratory Data Analysis (EDA)</b>."
   ]
  },
  {
   "cell_type": "markdown",
   "metadata": {},
   "source": [
    "### Let's get started.\n",
    "Fork the repository to run notebook on your personal computer."
   ]
  },
  {
   "cell_type": "markdown",
   "metadata": {},
   "source": [
    "#### Import the required packages"
   ]
  },
  {
   "cell_type": "markdown",
   "metadata": {},
   "source": [
    "In this tutorial we will work with powerful Python packages like Pandas, Matplotlib and Seaborn. "
   ]
  },
  {
   "cell_type": "code",
   "execution_count": null,
   "metadata": {
    "collapsed": true
   },
   "outputs": [],
   "source": [
    "import pandas as pd\n",
    "import matplotlib.pyplot as plt\n",
    "import seaborn as sns\n",
    "import os\n",
    "%matplotlib inline"
   ]
  },
  {
   "cell_type": "markdown",
   "metadata": {},
   "source": [
    "The IPython magic command <i>%matplotlib inline</i> enables the display of graphics inline with the Python code. If you do not include this command your graphs will not be displayed inside the notebook."
   ]
  },
  {
   "cell_type": "markdown",
   "metadata": {},
   "source": [
    "#### Load and examine the dataset"
   ]
  },
  {
   "cell_type": "markdown",
   "metadata": {},
   "source": [
    "The function shown in the cell below loads the data from the <i>.csv</i> file.\n",
    "Execute the code in this cell to load the dataset into your notebook. <b>Make sure you have the .csv file in your working directory.</b>"
   ]
  },
  {
   "cell_type": "code",
   "execution_count": null,
   "metadata": {},
   "outputs": [],
   "source": [
    "def read_dataset(fileName=\"pokemon.csv\"):\n",
    "    cwd = os.getcwd()\n",
    "    dataset_path = os.path.join(cwd, fileName)\n",
    "    data = pd.read_csv(dataset_path)\n",
    "    return data\n",
    "pokemon = read_dataset()   "
   ]
  },
  {
   "cell_type": "markdown",
   "metadata": {},
   "source": [
    "Using the Pandas <i>head</i> method let's have a first look at the dataset."
   ]
  },
  {
   "cell_type": "code",
   "execution_count": null,
   "metadata": {},
   "outputs": [],
   "source": [
    "pokemon.head()"
   ]
  },
  {
   "cell_type": "markdown",
   "metadata": {},
   "source": [
    "You can see there are both numerical and string(categorical) variable types are present in the dataset. As a next step examine some summary statistics of the numeric columns using the Pandas <i>describe</i> method."
   ]
  },
  {
   "cell_type": "code",
   "execution_count": null,
   "metadata": {},
   "outputs": [],
   "source": [
    "pokemon.describe()"
   ]
  },
  {
   "cell_type": "markdown",
   "metadata": {},
   "source": [
    "To know about the dimensions of the dataset use Pandas <i>shape</i> method."
   ]
  },
  {
   "cell_type": "code",
   "execution_count": null,
   "metadata": {},
   "outputs": [],
   "source": [
    "pokemon.shape"
   ]
  },
  {
   "cell_type": "markdown",
   "metadata": {},
   "source": [
    "The dataset is having <i>801 rows</i> and <i>41 columns</i>."
   ]
  },
  {
   "cell_type": "markdown",
   "metadata": {},
   "source": [
    "Use Pandas <i>info</i> method to know more about the dataset."
   ]
  },
  {
   "cell_type": "code",
   "execution_count": null,
   "metadata": {
    "scrolled": true
   },
   "outputs": [],
   "source": [
    "pokemon.info()"
   ]
  },
  {
   "cell_type": "markdown",
   "metadata": {},
   "source": [
    "The <i>height_m</i>, <i>percentage_male</i>, <i>type2</i> and <i>weight_kg</i> columns contain the null/missing values.   "
   ]
  },
  {
   "cell_type": "markdown",
   "metadata": {},
   "source": [
    "Count the number of null/missing values."
   ]
  },
  {
   "cell_type": "code",
   "execution_count": null,
   "metadata": {},
   "outputs": [],
   "source": [
    "print(\"'height_m' column has {} null values\".format(sum(pokemon['height_m'].isnull())))\n",
    "print(\"'percentage_male' column has {} null values\".format(sum(pokemon['percentage_male'].isnull())))\n",
    "print(\"'type2' column has {} null values\".format(sum(pokemon['type2'].isnull())))\n",
    "print(\"'weight_kg' column has {} null values\".format(sum(pokemon['weight_kg'].isnull())))"
   ]
  },
  {
   "cell_type": "markdown",
   "metadata": {},
   "source": [
    "Drop the rows where atleast one element is missing."
   ]
  },
  {
   "cell_type": "code",
   "execution_count": null,
   "metadata": {
    "collapsed": true
   },
   "outputs": [],
   "source": [
    "pokemon.dropna(inplace=True)"
   ]
  },
  {
   "cell_type": "markdown",
   "metadata": {},
   "source": [
    "Now, re-examine the datset using Pandas <i>info</i> method."
   ]
  },
  {
   "cell_type": "code",
   "execution_count": null,
   "metadata": {},
   "outputs": [],
   "source": [
    "pokemon.info()"
   ]
  },
  {
   "cell_type": "markdown",
   "metadata": {},
   "source": [
    "We removed all the rows with missing values."
   ]
  },
  {
   "cell_type": "markdown",
   "metadata": {},
   "source": [
    "Now the <i>shape</i> of the dataset is"
   ]
  },
  {
   "cell_type": "code",
   "execution_count": null,
   "metadata": {},
   "outputs": [],
   "source": [
    "pokemon.shape"
   ]
  },
  {
   "cell_type": "markdown",
   "metadata": {},
   "source": [
    "List down all the features of the dataset."
   ]
  },
  {
   "cell_type": "code",
   "execution_count": null,
   "metadata": {},
   "outputs": [],
   "source": [
    "pokemon.columns"
   ]
  },
  {
   "cell_type": "code",
   "execution_count": null,
   "metadata": {},
   "outputs": [],
   "source": [
    "# or you can use list method \n",
    "list(pokemon)"
   ]
  },
  {
   "cell_type": "markdown",
   "metadata": {},
   "source": [
    "To see specific row use ```.iloc(<row-selection>, <column-selection>)``` method."
   ]
  },
  {
   "cell_type": "code",
   "execution_count": null,
   "metadata": {},
   "outputs": [],
   "source": [
    "pokemon.iloc[0:6] # displays top five rows"
   ]
  },
  {
   "cell_type": "code",
   "execution_count": null,
   "metadata": {},
   "outputs": [],
   "source": [
    "pokemon.iloc[0:6, 0:5]"
   ]
  },
  {
   "cell_type": "code",
   "execution_count": null,
   "metadata": {},
   "outputs": [],
   "source": [
    "pokemon.iloc[[5]] # displays the fifth row"
   ]
  },
  {
   "cell_type": "markdown",
   "metadata": {},
   "source": [
    "If you are thinking that why we are using <b>[[ ]]</b> in iloc method?"
   ]
  },
  {
   "cell_type": "code",
   "execution_count": null,
   "metadata": {},
   "outputs": [],
   "source": [
    "print(type(pokemon.iloc[[5]])) # Returns a dataframe"
   ]
  },
  {
   "cell_type": "code",
   "execution_count": null,
   "metadata": {},
   "outputs": [],
   "source": [
    "print(type(pokemon.iloc[5])) # Returns a series"
   ]
  },
  {
   "cell_type": "markdown",
   "metadata": {},
   "source": [
    "#### Visualization of the dataset"
   ]
  },
  {
   "cell_type": "markdown",
   "metadata": {},
   "source": [
    "#### 1. Scatter Plot with Matplotlib"
   ]
  },
  {
   "cell_type": "markdown",
   "metadata": {},
   "source": [
    "Scatter plots show the relationship between two variables in the form of dots on the plot. In simple terms, the value along a horizontal axis are plotted against a vertical axis."
   ]
  },
  {
   "cell_type": "markdown",
   "metadata": {},
   "source": [
    "Matplotlib is the base of most python plotting packages. Some basic understanding of Matplotlib will help you achieve better control of your graphics."
   ]
  },
  {
   "cell_type": "markdown",
   "metadata": {},
   "source": [
    "Let's start by making a simple scatter plot. Our recipe is simple:\n",
    "* Import Matplotlib.pyplot\n",
    "* Use the plot method\n",
    "* Specify the values to plot on the x and y axes.\n",
    "* Specify that we want red dots using a type of 'ro'. If you do not specify a type, you will geta line plot which is the default."
   ]
  },
  {
   "cell_type": "code",
   "execution_count": null,
   "metadata": {},
   "outputs": [],
   "source": [
    "pokemon.plot(kind='scatter', x='height_m', y='weight_kg')"
   ]
  },
  {
   "cell_type": "markdown",
   "metadata": {},
   "source": [
    "You can also draw the same graph using Panads functions."
   ]
  },
  {
   "cell_type": "code",
   "execution_count": null,
   "metadata": {},
   "outputs": [],
   "source": [
    "pokemon.plot.scatter(x = 'height_m', y = 'weight_kg', figsize = (10,5), fontsize = 20, title = \"Height Vs Weight\")"
   ]
  },
  {
   "cell_type": "markdown",
   "metadata": {},
   "source": [
    "In the plot above, we can see that most of the pokemons are having short height and less weight. "
   ]
  },
  {
   "cell_type": "markdown",
   "metadata": {},
   "source": [
    "#### Exercise: \n",
    "In the cell below, create and execute the code required to display an improved version of the plot you created above. \n",
    "\n",
    "Draw the scatter plot with having 'speed' feature on x-axis and 'weight_kg' feature on y-axis."
   ]
  },
  {
   "cell_type": "code",
   "execution_count": null,
   "metadata": {
    "collapsed": true
   },
   "outputs": [],
   "source": []
  },
  {
   "cell_type": "markdown",
   "metadata": {},
   "source": [
    "#### 2. Line Plots"
   ]
  },
  {
   "cell_type": "markdown",
   "metadata": {},
   "source": [
    "Line plots are similar to point plots. In line plots the discrete points are conneced by lines."
   ]
  },
  {
   "cell_type": "code",
   "execution_count": null,
   "metadata": {},
   "outputs": [],
   "source": [
    "# HP is kind of a measure of your Pokemon's stamina\n",
    "pokemon['hp'].value_counts().sort_index()"
   ]
  },
  {
   "cell_type": "code",
   "execution_count": null,
   "metadata": {},
   "outputs": [],
   "source": [
    "ax = (pokemon['hp'].value_counts().sort_index().plot.line(figsize=(10,5), fontsize=20, color='red'))\n",
    "ax.set_title(\"Line Chart of Pokemon's Stamina\", fontsize=20)\n",
    "ax.set_xlabel(\"HP of Pokemons\", fontsize=20)\n",
    "ax.set_ylabel(\"Number of Pokemons\", fontsize=20)"
   ]
  },
  {
   "cell_type": "markdown",
   "metadata": {},
   "source": [
    "In the above plot we can see the variation in Pokemon's stamina. More than 35 Pokemons are having stamina near to 60."
   ]
  },
  {
   "cell_type": "markdown",
   "metadata": {},
   "source": [
    "#### Exercise:\n",
    "Draw the line chart using 'generation' as one of the feature."
   ]
  },
  {
   "cell_type": "code",
   "execution_count": null,
   "metadata": {
    "collapsed": true
   },
   "outputs": [],
   "source": []
  },
  {
   "cell_type": "markdown",
   "metadata": {},
   "source": [
    "#### 3. Bar Plots"
   ]
  },
  {
   "cell_type": "markdown",
   "metadata": {},
   "source": [
    "Bar plots are used to display the counts of unique values of a categorical variable. The height of the bar represents the count for each unique category of the variable."
   ]
  },
  {
   "cell_type": "code",
   "execution_count": null,
   "metadata": {},
   "outputs": [],
   "source": [
    "pokemon['type1'].value_counts()"
   ]
  },
  {
   "cell_type": "code",
   "execution_count": null,
   "metadata": {},
   "outputs": [],
   "source": [
    "ax = (pokemon['type1'].value_counts().plot.bar(figsize=(10,5), fontsize=20))\n",
    "ax.set_title(\"Pokemon Type\", fontsize=20) # set the fontsize of title\n",
    "ax.set_xlabel(\"Type1\",fontsize=20)\n",
    "ax.set_ylabel(\"Number of Pokemons\",fontsize=20)\n",
    "sns.despine(bottom=True, left=True) # used to remove the black border"
   ]
  },
  {
   "cell_type": "markdown",
   "metadata": {},
   "source": [
    "In the above plot we see most of the pokemons are <i>bug</i> and <i>water</i> type pokemons."
   ]
  },
  {
   "cell_type": "markdown",
   "metadata": {},
   "source": [
    "#### Exercise:\n",
    "Draw barplot using 'is_legendary' as one of the feature."
   ]
  },
  {
   "cell_type": "code",
   "execution_count": null,
   "metadata": {
    "collapsed": true
   },
   "outputs": [],
   "source": []
  },
  {
   "cell_type": "markdown",
   "metadata": {},
   "source": [
    "#### 4. Pie Charts"
   ]
  },
  {
   "cell_type": "markdown",
   "metadata": {},
   "source": [
    "Pie chart is a type of graph in which a circle is divided into sectors that each represent a proportion of the whole."
   ]
  },
  {
   "cell_type": "code",
   "execution_count": null,
   "metadata": {},
   "outputs": [],
   "source": [
    "ax = (pokemon['is_legendary'].value_counts().plot.pie(figsize=(10,10), fontsize=20))\n",
    "ax.set_title(\"Legendary Percentage\", fontsize=20)"
   ]
  },
  {
   "cell_type": "markdown",
   "metadata": {},
   "source": [
    "#### Exercise:\n",
    "\n",
    "Draw the pie chart using 'type2' as feature."
   ]
  },
  {
   "cell_type": "code",
   "execution_count": null,
   "metadata": {
    "collapsed": true
   },
   "outputs": [],
   "source": []
  },
  {
   "cell_type": "markdown",
   "metadata": {},
   "source": [
    "#### 5. Histogram"
   ]
  },
  {
   "cell_type": "markdown",
   "metadata": {},
   "source": [
    "Histograms are related to bar plots. Histograms are used for numeric variables. Whereas, a bar plot shows the counts of unique categories, a histogram shows the number of data with values within a bin. The bin divide the values of the variable into equal segments. The vertical axis of the histogram shows the count of data values within each bin."
   ]
  },
  {
   "cell_type": "code",
   "execution_count": null,
   "metadata": {},
   "outputs": [],
   "source": [
    "pokemon[pokemon['weight_kg'] <200]['weight_kg']"
   ]
  },
  {
   "cell_type": "code",
   "execution_count": null,
   "metadata": {},
   "outputs": [],
   "source": [
    "ax = (pokemon[pokemon['weight_kg'] <200]['weight_kg'].plot.hist(figsize=(10,5), fontsize=20))\n",
    "ax.set_title(\"Pokemon's weight less than 200\", fontsize=20)\n",
    "ax.set_xlabel(\"weight in kg\", fontsize=20)\n",
    "ax.set_ylabel(\"Frequency\", fontsize=20)\n",
    "sns.despine(bottom=True, left=True)"
   ]
  },
  {
   "cell_type": "markdown",
   "metadata": {},
   "source": [
    "In the above plot we can see that most of the pokemons are having the weight less than 25kg."
   ]
  },
  {
   "cell_type": "markdown",
   "metadata": {},
   "source": [
    "#### Example:\n",
    "\n",
    "Draw a histogram when 'weight_kg > 200'"
   ]
  },
  {
   "cell_type": "code",
   "execution_count": null,
   "metadata": {
    "collapsed": true
   },
   "outputs": [],
   "source": []
  },
  {
   "cell_type": "markdown",
   "metadata": {},
   "source": [
    "#### 6. Box Plots"
   ]
  },
  {
   "cell_type": "markdown",
   "metadata": {},
   "source": [
    "Box plots, also known as box and wisker plots, were introduced by John Tukey in 1970. Box plots are another way to visualize the distribution of data values. In this respect, box plots are comparable to histograms, but are quite different in presentation. On a box plot the median value is shown with a dark bar. The inner two quartiles of data values are contained within the 'box'. The 'wiskers' enclose the majority of the data(up to +/-2.5 * interquartile range). Outliers are shown by symbols beyond the wiskers. Several box plots can be stacked along an axis for comparison. The data are divided using a 'group by' operation, and the box plots for each group are atacked next to each other. In this way, the box plot allows you to display two dimensions of your dataset."
   ]
  },
  {
   "cell_type": "code",
   "execution_count": null,
   "metadata": {
    "collapsed": true
   },
   "outputs": [],
   "source": [
    "# Set all figures of below size\n",
    "sns.set(rc={'figure.figsize':(10,6)})"
   ]
  },
  {
   "cell_type": "code",
   "execution_count": null,
   "metadata": {
    "scrolled": true
   },
   "outputs": [],
   "source": [
    "ax = (sns.boxplot(x = 'is_legendary', y = 'attack', data = pokemon))\n",
    "ax.set_title(\"is_legendary vs attack\", fontsize=20)\n",
    "ax.set_xlabel(\"is_legendary\", fontsize=20)\n",
    "ax.set_ylabel(\"attack\", fontsize=20)"
   ]
  },
  {
   "cell_type": "markdown",
   "metadata": {},
   "source": [
    "In the plot above there is much variation in non legendary pokemons than legendary pokemons."
   ]
  },
  {
   "cell_type": "markdown",
   "metadata": {},
   "source": [
    "### Exercise:\n",
    "\n",
    "Draw the box plot of 'is_legendary Vs Defence'"
   ]
  },
  {
   "cell_type": "code",
   "execution_count": null,
   "metadata": {
    "collapsed": true
   },
   "outputs": [],
   "source": []
  },
  {
   "cell_type": "markdown",
   "metadata": {},
   "source": [
    "#### 7. Kernel Density Plots"
   ]
  },
  {
   "cell_type": "markdown",
   "metadata": {},
   "source": [
    "Kernel density plots are similar in concept to a histogram. A kernel density plot displays the values of a smoothed density curve of the data values. In other words, the kernel density plot is a smoothed version of a histogram."
   ]
  },
  {
   "cell_type": "code",
   "execution_count": null,
   "metadata": {},
   "outputs": [],
   "source": [
    "ax= (sns.kdeplot(pokemon[['hp', 'attack']]))\n",
    "ax.set_title(\"KDE Plot of hp Vs attack\", fontsize = 20)\n",
    "ax.set_xlabel(\"HP\", fontsize = 20)\n",
    "ax.set_ylabel(\"attack\", fontsize = 20)"
   ]
  },
  {
   "cell_type": "markdown",
   "metadata": {},
   "source": [
    "### Exercise: \n",
    "Draw the KDE Plot of hp and defence "
   ]
  },
  {
   "cell_type": "code",
   "execution_count": null,
   "metadata": {
    "collapsed": true
   },
   "outputs": [],
   "source": []
  },
  {
   "cell_type": "markdown",
   "metadata": {},
   "source": [
    "### 8. Violin Plots"
   ]
  },
  {
   "cell_type": "markdown",
   "metadata": {},
   "source": [
    "A violin plot combines attributes of boxplots and a kernel density estimation plot. Like a box plot, the violin plots can be stacked, with a 'group by' operation. Additionally, the violin plot provides a kernel density estimate for each group. As with the box plot, violin plots allow you to display two dimensions of your dataset."
   ]
  },
  {
   "cell_type": "code",
   "execution_count": null,
   "metadata": {},
   "outputs": [],
   "source": [
    "ax = (sns.violinplot(x='is_legendary', y='attack', data = pokemon))\n",
    "ax.set_title(\"Violin plot of is_legendary Vs attack\", fontsize=20)\n",
    "ax.set_xlabel(\"is_legendary\", fontsize =20)\n",
    "ax.set_ylabel(\"attack\", fontsize=20)"
   ]
  },
  {
   "cell_type": "markdown",
   "metadata": {},
   "source": [
    "### Exercise: \n",
    "Draw the Violin plot of is_legendary Vs defence"
   ]
  },
  {
   "cell_type": "code",
   "execution_count": null,
   "metadata": {
    "collapsed": true
   },
   "outputs": [],
   "source": []
  },
  {
   "cell_type": "markdown",
   "metadata": {},
   "source": [
    "#### 9. Stacked Plot"
   ]
  },
  {
   "cell_type": "code",
   "execution_count": null,
   "metadata": {},
   "outputs": [],
   "source": [
    "pokemon_stats_legendary = pokemon.groupby(['is_legendary', 'generation']).mean()[['attack', 'defense']]\n",
    "pokemon_stats_legendary"
   ]
  },
  {
   "cell_type": "code",
   "execution_count": null,
   "metadata": {},
   "outputs": [],
   "source": [
    "ax = (pokemon_stats_legendary.plot.bar(stacked=True, figsize=(10,5), fontsize=20))\n",
    "ax.set_title(\"Stacked Plot of means of Attack and Defense\", fontsize=20)\n",
    "ax.set_xlabel(\"is_legendary, generation\", fontsize=20)\n",
    "ax.set_ylabel(\"mean\", fontsize=20)"
   ]
  },
  {
   "cell_type": "code",
   "execution_count": null,
   "metadata": {},
   "outputs": [],
   "source": [
    "pokemon_stats_by_generation = pokemon.groupby('generation').mean()[['hp', 'attack', 'defense', 'sp_attack', 'sp_defense', 'speed']]\n",
    "pokemon_stats_by_generation"
   ]
  },
  {
   "cell_type": "code",
   "execution_count": null,
   "metadata": {},
   "outputs": [],
   "source": [
    "ax = (pokemon_stats_by_generation.plot.line(figsize=(10,5), fontsize=20))\n",
    "ax.set_title(\"Stacked Plot of means\", fontsize=20)\n",
    "ax.set_xlabel(\"generation\", fontsize=20)\n",
    "ax.set_ylabel(\"mean\", fontsize=20)"
   ]
  },
  {
   "cell_type": "markdown",
   "metadata": {},
   "source": [
    "#### 10. Subplotting"
   ]
  },
  {
   "cell_type": "markdown",
   "metadata": {},
   "source": [
    "Subplotting is a technique for creating multiple plots that live side-by-side in one overall figure."
   ]
  },
  {
   "cell_type": "markdown",
   "metadata": {},
   "source": [
    "#### Countplot"
   ]
  },
  {
   "cell_type": "code",
   "execution_count": null,
   "metadata": {},
   "outputs": [],
   "source": [
    "fig, axarr = plt.subplots(2, 2, figsize=(12, 12))\n",
    "\n",
    "pokemon['generation'].value_counts().plot.bar(\n",
    "    ax=axarr[0][0], fontsize=12, color='mediumvioletred'\n",
    ")\n",
    "axarr[0][0].set_title(\"Generation\", fontsize=18)\n",
    "\n",
    "pokemon['type1'].value_counts().plot.bar(\n",
    "    ax=axarr[1][0], fontsize=12, color='mediumvioletred' )\n",
    "axarr[1][0].set_title(\"Type1\", fontsize=18)\n",
    "\n",
    "pokemon['type2'].value_counts().plot.bar(\n",
    "    ax=axarr[1][1], fontsize=12, color='mediumvioletred')\n",
    "axarr[1][1].set_title(\"Type2\", fontsize=18)\n",
    "\n",
    "pokemon['is_legendary'].value_counts().plot.bar(\n",
    "    ax=axarr[0][1], fontsize=12, color='mediumvioletred')\n",
    "axarr[0][1].set_title(\"Legendary\", fontsize=18)\n",
    "\n",
    "plt.subplots_adjust(hspace=.3)\n",
    "\n",
    "\n",
    "sns.despine()\n"
   ]
  },
  {
   "cell_type": "code",
   "execution_count": null,
   "metadata": {
    "collapsed": true
   },
   "outputs": [],
   "source": []
  }
 ],
 "metadata": {
  "celltoolbar": "Raw Cell Format",
  "kernelspec": {
   "display_name": "Python 3",
   "language": "python",
   "name": "python3"
  },
  "language_info": {
   "codemirror_mode": {
    "name": "ipython",
    "version": 3
   },
   "file_extension": ".py",
   "mimetype": "text/x-python",
   "name": "python",
   "nbconvert_exporter": "python",
   "pygments_lexer": "ipython3",
   "version": "3.6.3"
  }
 },
 "nbformat": 4,
 "nbformat_minor": 2
}
